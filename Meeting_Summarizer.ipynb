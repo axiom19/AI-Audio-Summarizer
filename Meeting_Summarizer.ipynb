{
  "nbformat": 4,
  "nbformat_minor": 0,
  "metadata": {
    "colab": {
      "provenance": [],
      "gpuType": "T4",
      "authorship_tag": "ABX9TyP/IyhcH2iit9eERQzEHrGc",
      "include_colab_link": true
    },
    "kernelspec": {
      "name": "python3",
      "display_name": "Python 3"
    },
    "language_info": {
      "name": "python"
    },
    "accelerator": "GPU"
  },
  "cells": [
    {
      "cell_type": "markdown",
      "metadata": {
        "id": "view-in-github",
        "colab_type": "text"
      },
      "source": [
        "<a href=\"https://colab.research.google.com/github/axiom19/AI-Meeting-Summarizer/blob/main/Meeting_Summarizer.ipynb\" target=\"_parent\"><img src=\"https://colab.research.google.com/assets/colab-badge.svg\" alt=\"Open In Colab\"/></a>"
      ]
    },
    {
      "cell_type": "markdown",
      "source": [
        "# Meeting Summarizer / Speech Analyzer\n",
        "<ul>\n",
        "<li>\n",
        "In this notebook, we'll set up a language model (LLM) instance, which is HuggingFace Model, model.\n",
        "<li>Then, we'll establish a prompt template. These templates are structured guides to generate prompts for language models, aiding in output organization (more info in langchain prompt template).\n",
        "<li>\n",
        "Next, we'll develop a transcription function that employs the OpenAI Whisper model to convert speech-to-text. This function takes an audio file uploaded through a Gradio app interface (preferably in .mp3 format).\n",
        "<li>The transcribed text is then fed into an LLMChain, which integrates the text with the prompt template and forwards it to the chosen LLM.\n",
        "\n",
        "<li>The final output from the LLM is then displayed in the Gradio app's output textbox."
      ],
      "metadata": {
        "id": "x_TcFaPySwqD"
      }
    },
    {
      "cell_type": "code",
      "source": [
        "# !pip install gradio\n",
        "# !pip install transformers\n",
        "# !pip install langchain\n",
        "# !pip install torch"
      ],
      "metadata": {
        "id": "ZJZ8cGJ2JRMW"
      },
      "execution_count": 9,
      "outputs": []
    },
    {
      "cell_type": "code",
      "source": [
        "# !pip install langchain-huggingface"
      ],
      "metadata": {
        "id": "AMw-E71CLij5"
      },
      "execution_count": 10,
      "outputs": []
    },
    {
      "cell_type": "markdown",
      "source": [
        "## Import Statements"
      ],
      "metadata": {
        "id": "KtX68MWNSnEH"
      }
    },
    {
      "cell_type": "code",
      "execution_count": 1,
      "metadata": {
        "id": "9DcD_7x2JAiA"
      },
      "outputs": [],
      "source": [
        "import torch\n",
        "import os\n",
        "import gradio as gr\n",
        "from transformers import pipeline, AutoTokenizer, AutoModelForSeq2SeqLM, AutoModelForCausalLM\n",
        "from langchain.prompts import PromptTemplate\n",
        "from langchain.chains import LLMChain\n",
        "from langchain_huggingface import HuggingFacePipeline"
      ]
    },
    {
      "cell_type": "code",
      "source": [
        "#os.environ[\"HF_TOKEN\"] = \"KEY\""
      ],
      "metadata": {
        "id": "bDzQ01kDKYaD"
      },
      "execution_count": 11,
      "outputs": []
    },
    {
      "cell_type": "markdown",
      "source": [
        "## Step 1: Setting up LLM"
      ],
      "metadata": {
        "id": "oD4k0tr3Tfgy"
      }
    },
    {
      "cell_type": "code",
      "source": [
        "#######------------- LLM-------------####\n",
        "# Set the device\n",
        "device = \"cuda\" if torch.cuda.is_available() else \"cpu\"\n",
        "\n",
        "# Load the tokenizer and model\n",
        "tokenizer = AutoTokenizer.from_pretrained(\"facebook/bart-large-cnn\")\n",
        "model = AutoModelForSeq2SeqLM.from_pretrained(\"facebook/bart-large-cnn\")\n",
        "\n",
        "# Create a text-generation pipeline\n",
        "text_generation_pipeline = pipeline(\n",
        "    \"summarization\",\n",
        "    model=model,\n",
        "    tokenizer=tokenizer,\n",
        "    max_length=800,\n",
        "    temperature=0.1,\n",
        "    device=device\n",
        ")\n",
        "\n",
        "llm = HuggingFacePipeline(pipeline=text_generation_pipeline)"
      ],
      "metadata": {
        "id": "8FPcpeROJqZL"
      },
      "execution_count": 5,
      "outputs": []
    },
    {
      "cell_type": "markdown",
      "source": [
        "## Step 2: Setting Prompt Template and LLMChain"
      ],
      "metadata": {
        "id": "en9lw2IfTkq5"
      }
    },
    {
      "cell_type": "code",
      "source": [
        "#######------------- Prompt Template-------------####\n",
        "\n",
        "temp = \"\"\"\n",
        "List the key points with details from the context:\n",
        "The context : {context}\n",
        "\"\"\"\n",
        "pt = PromptTemplate(\n",
        "    input_variables=[\"context\"],\n",
        "    template= temp)\n",
        "\n",
        "prompt_to_LLAMA2 = LLMChain(llm=llm, prompt=pt)"
      ],
      "metadata": {
        "colab": {
          "base_uri": "https://localhost:8080/"
        },
        "id": "Ues4tppfKPri",
        "outputId": "0b640be9-1c0c-4c9a-9c61-edbddce2ae04"
      },
      "execution_count": 6,
      "outputs": [
        {
          "output_type": "stream",
          "name": "stderr",
          "text": [
            "/usr/local/lib/python3.10/dist-packages/langchain_core/_api/deprecation.py:139: LangChainDeprecationWarning: The class `LLMChain` was deprecated in LangChain 0.1.17 and will be removed in 1.0. Use RunnableSequence, e.g., `prompt | llm` instead.\n",
            "  warn_deprecated(\n"
          ]
        }
      ]
    },
    {
      "cell_type": "markdown",
      "source": [
        "## Step 3: Speech to text transcription function"
      ],
      "metadata": {
        "id": "GhP2yBajTxiM"
      }
    },
    {
      "cell_type": "code",
      "source": [
        "#######------------- Speech2text-------------####\n",
        "\n",
        "def transcript_audio(audio_file):\n",
        "    # Initialize the speech recognition pipeline\n",
        "\n",
        "    pipe = pipeline(\n",
        "        \"automatic-speech-recognition\",\n",
        "        model=\"openai/whisper-tiny.en\",\n",
        "        chunk_length_s=30\n",
        "    )\n",
        "\n",
        "    # Transcribe the audio file and return the result\n",
        "    transcript_txt = pipe(audio_file, batch_size=8)[\"text\"]\n",
        "    # run the chain to merge transcript text with the template and send it to the LLM\n",
        "    result = prompt_to_LLAMA2.run(transcript_txt)\n",
        "    return result\n"
      ],
      "metadata": {
        "id": "eCJ0zj9IMrwz"
      },
      "execution_count": 7,
      "outputs": []
    },
    {
      "cell_type": "markdown",
      "source": [
        "## Step 4: Set up Gradio Interface"
      ],
      "metadata": {
        "id": "vPDtJbmcT27I"
      }
    },
    {
      "cell_type": "code",
      "source": [
        "#######------------- Gradio-------------####\n",
        "audio_input = gr.Audio(sources=\"upload\", type=\"filepath\")\n",
        "output_text = gr.Textbox()\n",
        "# Create the Gradio interface with the function, inputs, and outputs\n",
        "iface = gr.Interface(\n",
        "    fn=transcript_audio,\n",
        "    inputs=audio_input,\n",
        "    outputs=output_text,\n",
        ")\n",
        "iface.launch()"
      ],
      "metadata": {
        "colab": {
          "base_uri": "https://localhost:8080/",
          "height": 648
        },
        "id": "XsNWyBVhM1pg",
        "outputId": "3355cfd7-1b79-4db9-dc5a-788cdc7b108b"
      },
      "execution_count": 8,
      "outputs": [
        {
          "output_type": "stream",
          "name": "stdout",
          "text": [
            "Setting queue=True in a Colab notebook requires sharing enabled. Setting `share=True` (you can turn this off by setting `share=False` in `launch()` explicitly).\n",
            "\n",
            "Colab notebook detected. To show errors in colab notebook, set debug=True in launch()\n",
            "Running on public URL: https://cadeccaf6829e9f610.gradio.live\n",
            "\n",
            "This share link expires in 72 hours. For free permanent hosting and GPU upgrades, run `gradio deploy` from Terminal to deploy to Spaces (https://huggingface.co/spaces)\n"
          ]
        },
        {
          "output_type": "display_data",
          "data": {
            "text/plain": [
              "<IPython.core.display.HTML object>"
            ],
            "text/html": [
              "<div><iframe src=\"https://cadeccaf6829e9f610.gradio.live\" width=\"100%\" height=\"500\" allow=\"autoplay; camera; microphone; clipboard-read; clipboard-write;\" frameborder=\"0\" allowfullscreen></iframe></div>"
            ]
          },
          "metadata": {}
        },
        {
          "output_type": "execute_result",
          "data": {
            "text/plain": []
          },
          "metadata": {},
          "execution_count": 8
        }
      ]
    },
    {
      "cell_type": "code",
      "source": [],
      "metadata": {
        "id": "qeP6tLQEM5Ut"
      },
      "execution_count": null,
      "outputs": []
    }
  ]
}